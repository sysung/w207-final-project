{
 "cells": [
  {
   "cell_type": "code",
   "execution_count": 15,
   "metadata": {},
   "outputs": [],
   "source": [
    "import os\n",
    "import pandas as pd\n",
    "import numpy as np\n",
    "import tensorflow as tf\n",
    "\n",
    "from tensorflow.keras.preprocessing.image import img_to_array, load_img"
   ]
  },
  {
   "cell_type": "markdown",
   "metadata": {},
   "source": [
    "### Read csv file"
   ]
  },
  {
   "cell_type": "code",
   "execution_count": 2,
   "metadata": {},
   "outputs": [],
   "source": [
    "annotation_df_fp = os.path.abspath(\"data/annotations.csv\")\n",
    "annotations_df = pd.read_csv(annotation_df_fp)"
   ]
  },
  {
   "cell_type": "markdown",
   "metadata": {},
   "source": [
    "### Create X, Y data"
   ]
  },
  {
   "cell_type": "code",
   "execution_count": 16,
   "metadata": {},
   "outputs": [],
   "source": [
    "crop_img_loc = annotations_df[\"crop_img_filename\"].apply(lambda x: os.path.abspath(\"data/crop\" + \"/\" + x))\n",
    "crop_imgs = crop_img_loc.apply(load_img).apply(img_to_array)\n",
    "\n",
    "X_data_np = np.stack(crop_imgs)\n",
    "Y_data_np = annotations_df[\"label\"]"
   ]
  },
  {
   "cell_type": "code",
   "execution_count": 17,
   "metadata": {},
   "outputs": [
    {
     "name": "stdout",
     "output_type": "stream",
     "text": [
      "X_data_np.shape:  (1216, 100, 100, 3)\n",
      "Y_data_np.shape:  (1216,)\n"
     ]
    }
   ],
   "source": [
    "print(\"X_data_np.shape: \", X_data_np.shape)\n",
    "print(\"Y_data_np.shape: \", Y_data_np.shape)"
   ]
  },
  {
   "cell_type": "markdown",
   "metadata": {},
   "source": [
    "### Split training and test data"
   ]
  },
  {
   "cell_type": "code",
   "execution_count": 18,
   "metadata": {},
   "outputs": [
    {
     "name": "stdout",
     "output_type": "stream",
     "text": [
      "X_train shape: (729, 100, 100, 3)\n",
      "X_val shape: (243, 100, 100, 3)\n",
      "X_test shape: (244, 100, 100, 3)\n",
      "Y_train shape: (729,)\n",
      "Y_val shape: (243,)\n",
      "Y_test shape: (244,)\n"
     ]
    }
   ],
   "source": [
    "# Split into train, validation, and test split of 0.6/0.2/0.2\n",
    "def split_data(images, y, split=(0.6,0.2,0.2)):\n",
    "    tf.random.set_seed(1234)\n",
    "    np.random.seed(1234)\n",
    "    shuffle = np.random.permutation(np.arange(images.shape[0]))\n",
    "    images, y = images[shuffle], y[shuffle]\n",
    "    \n",
    "    splits = np.multiply(len(images), split).astype(int)\n",
    "    X_train, X_val, X_test = np.split(images, [splits[0], splits[0]+splits[1]])\n",
    "    Y_train, Y_val, Y_test = np.split(y, [splits[0], splits[0]+splits[1]])\n",
    "\n",
    "    return X_train, Y_train, X_val, Y_val, X_test, Y_test\n",
    "\n",
    "X_train, Y_train, X_val, Y_val, X_test, Y_test = split_data(X_data_np, Y_data_np)\n",
    "print(\"X_train shape: \", end='')\n",
    "print(X_train.shape)\n",
    "print(\"X_val shape: \", end='')\n",
    "print(X_val.shape)\n",
    "print(\"X_test shape: \", end='')\n",
    "print(X_test.shape)\n",
    "print(\"Y_train shape: \", end='')\n",
    "print(Y_train.shape)\n",
    "print(\"Y_val shape: \", end='')\n",
    "print(Y_val.shape)\n",
    "print(\"Y_test shape: \", end='')\n",
    "print(Y_test.shape)"
   ]
  },
  {
   "cell_type": "markdown",
   "metadata": {},
   "source": [
    "### Create binary classification labels"
   ]
  },
  {
   "cell_type": "code",
   "execution_count": 19,
   "metadata": {},
   "outputs": [
    {
     "ename": "NameError",
     "evalue": "name 'X_' is not defined",
     "output_type": "error",
     "traceback": [
      "\u001b[0;31m---------------------------------------------------------------------------\u001b[0m",
      "\u001b[0;31mNameError\u001b[0m                                 Traceback (most recent call last)",
      "\u001b[1;32m/Users/stevensung/Local/W207/w207-final-project/main.ipynb Cell 10\u001b[0m in \u001b[0;36m<cell line: 1>\u001b[0;34m()\u001b[0m\n\u001b[0;32m----> <a href='vscode-notebook-cell:/Users/stevensung/Local/W207/w207-final-project/main.ipynb#ch0000012?line=0'>1</a>\u001b[0m X_\n",
      "\u001b[0;31mNameError\u001b[0m: name 'X_' is not defined"
     ]
    }
   ],
   "source": [
    "X_"
   ]
  }
 ],
 "metadata": {
  "kernelspec": {
   "display_name": "Python 3.9.7",
   "language": "python",
   "name": "python3"
  },
  "language_info": {
   "codemirror_mode": {
    "name": "ipython",
    "version": 3
   },
   "file_extension": ".py",
   "mimetype": "text/x-python",
   "name": "python",
   "nbconvert_exporter": "python",
   "pygments_lexer": "ipython3",
   "version": "3.9.7"
  },
  "orig_nbformat": 4,
  "vscode": {
   "interpreter": {
    "hash": "8e9fc72ce9e5374bb9f2df9cc94d0556ae613efefb6f545329e67b52a42f5d10"
   }
  }
 },
 "nbformat": 4,
 "nbformat_minor": 2
}
