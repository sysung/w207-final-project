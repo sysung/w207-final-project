{
 "cells": [
  {
   "cell_type": "code",
   "execution_count": 1,
   "metadata": {},
   "outputs": [],
   "source": [
    "from matplotlib import pyplot as plt\n",
    "from tensorflow import keras\n",
    "\n",
    "import numpy as np\n",
    "import os\n",
    "import pandas as pd\n",
    "import seaborn as sns\n",
    "import tensorflow as tf"
   ]
  },
  {
   "cell_type": "code",
   "execution_count": 2,
   "metadata": {},
   "outputs": [],
   "source": [
    "annotations_dir = os.path.abspath(\"data/annotations/\")\n",
    "images_dir = os.path.abspath(\"data/images/\")"
   ]
  },
  {
   "cell_type": "markdown",
   "metadata": {},
   "source": [
    "# Parse XML Data Annotations"
   ]
  },
  {
   "cell_type": "code",
   "execution_count": 21,
   "metadata": {},
   "outputs": [],
   "source": [
    "import xmltodict\n",
    "\n",
    "def insert_annotation_from_object(annotations, object, data_dict):\n",
    "    ''' Set information from object and data_dict into annotations'''\n",
    "    filename = data_dict[\"annotation\"][\"filename\"]\n",
    "    width = int(data_dict[\"annotation\"][\"size\"][\"width\"])\n",
    "    height = int(data_dict[\"annotation\"][\"size\"][\"height\"])\n",
    "    depth = int(data_dict[\"annotation\"][\"size\"][\"depth\"])\n",
    "    segmented = int(data_dict[\"annotation\"][\"segmented\"])\n",
    "    label = object[\"name\"]\n",
    "    pose = object[\"pose\"]\n",
    "    truncated = object[\"truncated\"]\n",
    "    occluded = object[\"occluded\"]\n",
    "    difficult = object[\"difficult\"]\n",
    "    xmin = object[\"bndbox\"][\"xmin\"]\n",
    "    ymin = object[\"bndbox\"][\"ymin\"]\n",
    "    xmax = object[\"bndbox\"][\"xmax\"]\n",
    "    ymax = object[\"bndbox\"][\"ymax\"]\n",
    "\n",
    "    annotations[\"filename\"].append(filename)\n",
    "    annotations[\"width\"].append(width)\n",
    "    annotations[\"height\"].append(height)\n",
    "    annotations[\"depth\"].append(depth)\n",
    "    annotations[\"segmented\"].append(segmented)\n",
    "    annotations[\"label\"].append(label)\n",
    "    annotations[\"pose\"].append(pose)\n",
    "    annotations[\"truncated\"].append(truncated)\n",
    "    annotations[\"occluded\"].append(occluded)\n",
    "    annotations[\"difficult\"].append(difficult)\n",
    "    annotations[\"xmin\"].append(xmin)\n",
    "    annotations[\"ymin\"].append(ymin)\n",
    "    annotations[\"xmax\"].append(xmax)\n",
    "    annotations[\"ymax\"].append(ymax)\n",
    "\n",
    "\n",
    "def get_all_annotations_from_xml(annotations_dir):\n",
    "    annotations = {\n",
    "        \"filename\": [],\n",
    "        \"label\": [], \n",
    "        \"pose\": [],\n",
    "        \"truncated\": [],\n",
    "        \"occluded\": [],\n",
    "        \"difficult\": [],\n",
    "        \"xmin\": [], \n",
    "        \"ymin\": [], \n",
    "        \"xmax\": [], \n",
    "        \"ymax\": [], \n",
    "        \"width\": [], \n",
    "        \"height\": [],\n",
    "        \"depth\": [],\n",
    "        \"segmented\": []\n",
    "    }\n",
    "\n",
    "    for file in os.listdir(annotations_dir):\n",
    "        with open(annotations_dir + \"/\" + file) as xml_file:\n",
    "            data_dict = xmltodict.parse(xml_file.read())\n",
    "            xml_file.close()\n",
    "\n",
    "            object = data_dict[\"annotation\"][\"object\"]\n",
    "            # If there is only one instance of a mask in the XML file, the object will return as a dictionary\n",
    "            if isinstance(object, dict):\n",
    "                insert_annotation_from_object(annotations, object, data_dict)\n",
    "                pass\n",
    "\n",
    "            # If there are multiple instances of a masks in the XML file, the object will return as a list\n",
    "            elif isinstance(object, list):\n",
    "                for obj in object:\n",
    "                    insert_annotation_from_object(annotations, obj, data_dict)\n",
    "\n",
    "\n",
    "    return pd.DataFrame.from_dict(annotations)"
   ]
  },
  {
   "cell_type": "code",
   "execution_count": 22,
   "metadata": {},
   "outputs": [],
   "source": [
    "annotations = get_all_annotations_from_xml(annotations_dir)"
   ]
  },
  {
   "cell_type": "code",
   "execution_count": null,
   "metadata": {},
   "outputs": [],
   "source": []
  }
 ],
 "metadata": {
  "kernelspec": {
   "display_name": "Python 3.9.7",
   "language": "python",
   "name": "python3"
  },
  "language_info": {
   "codemirror_mode": {
    "name": "ipython",
    "version": 3
   },
   "file_extension": ".py",
   "mimetype": "text/x-python",
   "name": "python",
   "nbconvert_exporter": "python",
   "pygments_lexer": "ipython3",
   "version": "3.9.7"
  },
  "orig_nbformat": 4,
  "vscode": {
   "interpreter": {
    "hash": "8e9fc72ce9e5374bb9f2df9cc94d0556ae613efefb6f545329e67b52a42f5d10"
   }
  }
 },
 "nbformat": 4,
 "nbformat_minor": 2
}
